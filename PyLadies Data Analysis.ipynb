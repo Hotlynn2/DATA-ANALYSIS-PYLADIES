{
 "cells": [
  {
   "cell_type": "code",
   "execution_count": 1,
   "metadata": {},
   "outputs": [],
   "source": [
    "import pandas as pd\n",
    "import numpy as np\n",
    "import glob\n",
    "import matplotlib.pyplot as plt\n",
    "import matplotlib.patches as patches"
   ]
  },
  {
   "cell_type": "code",
   "execution_count": 2,
   "metadata": {},
   "outputs": [
    {
     "data": {
      "text/html": [
       "<div>\n",
       "<style scoped>\n",
       "    .dataframe tbody tr th:only-of-type {\n",
       "        vertical-align: middle;\n",
       "    }\n",
       "\n",
       "    .dataframe tbody tr th {\n",
       "        vertical-align: top;\n",
       "    }\n",
       "\n",
       "    .dataframe thead th {\n",
       "        text-align: right;\n",
       "    }\n",
       "</style>\n",
       "<table border=\"1\" class=\"dataframe\">\n",
       "  <thead>\n",
       "    <tr style=\"text-align: right;\">\n",
       "      <th></th>\n",
       "      <th>SYEAR</th>\n",
       "      <th>SMTH</th>\n",
       "      <th>NAICS</th>\n",
       "      <th>_EMPLOYMENT_</th>\n",
       "    </tr>\n",
       "  </thead>\n",
       "  <tbody>\n",
       "    <tr>\n",
       "      <td>0</td>\n",
       "      <td>2000</td>\n",
       "      <td>1</td>\n",
       "      <td>Accommodation and food services [72]</td>\n",
       "      <td>148000</td>\n",
       "    </tr>\n",
       "    <tr>\n",
       "      <td>1</td>\n",
       "      <td>2000</td>\n",
       "      <td>1</td>\n",
       "      <td>Administrative and support, waste management a...</td>\n",
       "      <td>59250</td>\n",
       "    </tr>\n",
       "    <tr>\n",
       "      <td>2</td>\n",
       "      <td>2000</td>\n",
       "      <td>1</td>\n",
       "      <td>Agriculture, forestry, fishing and hunting [11]</td>\n",
       "      <td>61750</td>\n",
       "    </tr>\n",
       "    <tr>\n",
       "      <td>3</td>\n",
       "      <td>2000</td>\n",
       "      <td>1</td>\n",
       "      <td>Arts, entertainment and recreation [71]</td>\n",
       "      <td>39500</td>\n",
       "    </tr>\n",
       "    <tr>\n",
       "      <td>4</td>\n",
       "      <td>2000</td>\n",
       "      <td>1</td>\n",
       "      <td>Construction [23]</td>\n",
       "      <td>106250</td>\n",
       "    </tr>\n",
       "    <tr>\n",
       "      <td>...</td>\n",
       "      <td>...</td>\n",
       "      <td>...</td>\n",
       "      <td>...</td>\n",
       "      <td>...</td>\n",
       "    </tr>\n",
       "    <tr>\n",
       "      <td>119179</td>\n",
       "      <td>1999</td>\n",
       "      <td>12</td>\n",
       "      <td>9111</td>\n",
       "      <td>2250</td>\n",
       "    </tr>\n",
       "    <tr>\n",
       "      <td>119180</td>\n",
       "      <td>1999</td>\n",
       "      <td>12</td>\n",
       "      <td>9120</td>\n",
       "      <td>28500</td>\n",
       "    </tr>\n",
       "    <tr>\n",
       "      <td>119181</td>\n",
       "      <td>1999</td>\n",
       "      <td>12</td>\n",
       "      <td>9130</td>\n",
       "      <td>30250</td>\n",
       "    </tr>\n",
       "    <tr>\n",
       "      <td>119182</td>\n",
       "      <td>1999</td>\n",
       "      <td>12</td>\n",
       "      <td>9141</td>\n",
       "      <td>500</td>\n",
       "    </tr>\n",
       "    <tr>\n",
       "      <td>119183</td>\n",
       "      <td>1999</td>\n",
       "      <td>12</td>\n",
       "      <td>9191</td>\n",
       "      <td>750</td>\n",
       "    </tr>\n",
       "  </tbody>\n",
       "</table>\n",
       "<p>119184 rows × 4 columns</p>\n",
       "</div>"
      ],
      "text/plain": [
       "        SYEAR  SMTH                                              NAICS  \\\n",
       "0        2000     1               Accommodation and food services [72]   \n",
       "1        2000     1  Administrative and support, waste management a...   \n",
       "2        2000     1    Agriculture, forestry, fishing and hunting [11]   \n",
       "3        2000     1            Arts, entertainment and recreation [71]   \n",
       "4        2000     1                                  Construction [23]   \n",
       "...       ...   ...                                                ...   \n",
       "119179   1999    12                                               9111   \n",
       "119180   1999    12                                               9120   \n",
       "119181   1999    12                                               9130   \n",
       "119182   1999    12                                               9141   \n",
       "119183   1999    12                                               9191   \n",
       "\n",
       "        _EMPLOYMENT_  \n",
       "0             148000  \n",
       "1              59250  \n",
       "2              61750  \n",
       "3              39500  \n",
       "4             106250  \n",
       "...              ...  \n",
       "119179          2250  \n",
       "119180         28500  \n",
       "119181         30250  \n",
       "119182           500  \n",
       "119183           750  \n",
       "\n",
       "[119184 rows x 4 columns]"
      ]
     },
     "execution_count": 2,
     "metadata": {},
     "output_type": "execute_result"
    }
   ],
   "source": [
    "file_path = r'G:\\DataScience\\Data Insight\\NAICS\\csv_files'\n",
    "all_csv_files = glob.glob(file_path + '/*.csv')\n",
    "\n",
    "csv_list = []\n",
    "\n",
    "for csv_file in all_csv_files:\n",
    "    combined_dataframe = pd.read_csv(csv_file, index_col = None, header = 0)\n",
    "    csv_list.append(combined_dataframe)\n",
    "    \n",
    "data = pd.concat(csv_list, axis = 0, ignore_index = True)\n",
    "data"
   ]
  },
  {
   "cell_type": "code",
   "execution_count": 5,
   "metadata": {},
   "outputs": [
    {
     "name": "stdout",
     "output_type": "stream",
     "text": [
      "<class 'pandas.core.frame.DataFrame'>\n",
      "RangeIndex: 119184 entries, 0 to 119183\n",
      "Data columns (total 4 columns):\n",
      "SYEAR           119184 non-null int64\n",
      "SMTH            119184 non-null int64\n",
      "NAICS           119184 non-null object\n",
      "_EMPLOYMENT_    119184 non-null int64\n",
      "dtypes: int64(3), object(1)\n",
      "memory usage: 3.6+ MB\n"
     ]
    }
   ],
   "source": [
    "data.info()"
   ]
  },
  {
   "cell_type": "markdown",
   "metadata": {},
   "source": [
    "## Getting *Farms* from Crop production[111] & Animal production and aquaculture[112]"
   ]
  },
  {
   "cell_type": "code",
   "execution_count": 7,
   "metadata": {},
   "outputs": [],
   "source": [
    "Crop_Production = data.loc[data['NAICS'].str.contains('111', na = False)]\n",
    "Animal_production_and_aquaculture = data.loc[data['NAICS'].str.contains('112', na = False)]"
   ]
  },
  {
   "cell_type": "code",
   "execution_count": null,
   "metadata": {},
   "outputs": [],
   "source": []
  }
 ],
 "metadata": {
  "kernelspec": {
   "display_name": "Python 3",
   "language": "python",
   "name": "python3"
  },
  "language_info": {
   "codemirror_mode": {
    "name": "ipython",
    "version": 3
   },
   "file_extension": ".py",
   "mimetype": "text/x-python",
   "name": "python",
   "nbconvert_exporter": "python",
   "pygments_lexer": "ipython3",
   "version": "3.7.4"
  }
 },
 "nbformat": 4,
 "nbformat_minor": 2
}
